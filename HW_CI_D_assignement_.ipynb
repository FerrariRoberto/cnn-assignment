{
  "nbformat": 4,
  "nbformat_minor": 0,
  "metadata": {
    "accelerator": "GPU",
    "colab": {
      "provenance": []
    },
    "kernelspec": {
      "display_name": "Python 3",
      "language": "python",
      "name": "python3"
    },
    "language_info": {
      "codemirror_mode": {
        "name": "ipython",
        "version": 3
      },
      "file_extension": ".py",
      "mimetype": "text/x-python",
      "name": "python",
      "nbconvert_exporter": "python",
      "pygments_lexer": "ipython3",
      "version": "3.7.4"
    }
  },
  "cells": [
    {
      "cell_type": "markdown",
      "metadata": {
        "id": "9WjsBPzEFKMW"
      },
      "source": [
        "# Convolutional Neural Network in Keras\n",
        "\n",
        "Computational Intelligence  - STRATEGOS  \n",
        "Names (s) FR\n",
        "\n",
        "\n"
      ]
    },
    {
      "cell_type": "markdown",
      "metadata": {
        "id": "lk7ayopvh6vr"
      },
      "source": [
        "## Assignment: Implement a CNN in Keras\n",
        "\n",
        "We will implement\n",
        "\n",
        "Then we will apply our CNN to MNIST dataset of handritten digits\n",
        "\n",
        "The maximum evaluation of each Homework is 4 marks.\n",
        "\n",
        "### CNN Fashion Mnist - Challenge CI Strategos\n",
        "After submitted your Homework on the Aulaweb of the CI course\n",
        "your best result to the shared table before the due date of the Homework\n",
        "\n",
        "The winner of the challenge will receive 1 extra-mark"
      ]
    },
    {
      "cell_type": "markdown",
      "metadata": {
        "id": "0SyO72xOFKMX"
      },
      "source": [
        "## Pre-requisites:\n",
        "\n",
        "It is possible to run this notebook locally on a jupyter installation, but we recommend to run this this notebook in the cloud on Google Colab <a target=\"_blank\" href=\"http://colab.research.google.com/\"><img src=\"https://deeplearning.mit.edu/files/images/github/icon_google_colab.png\" style=\"padding-bottom:5px;\" height=\"18\"/></a> because Colab makes possible to test the execution both on the standard CPU kernel and on a GPU powered one.\n",
        "\n",
        "You can switch between them by selecting the following menuitems: Edit $\\rightarrow$ Notebook settings $\\rightarrow$ Hardware accelerator\n",
        "\n",
        "Local execution requires to [install TensorFlow](https://www.tensorflow.org/install/), which is not always an easy task due to different version of dependent libraries, and [tf.keras](https://www.tensorflow.org/guide/keras) which\n",
        "is TensorFlow's high-level API for building and training deep learning models.\n",
        "\n",
        "You may find detailed documentation at [Keras Guide](https://www.tensorflow.org/guide/keras).\n",
        "\n",
        "## Required imports:"
      ]
    },
    {
      "cell_type": "code",
      "metadata": {
        "id": "gHoRYxKGFKMe",
        "colab": {
          "base_uri": "https://localhost:8080/"
        },
        "outputId": "ddccf0ae-f196-4a7d-84ba-b5f61b68e73d"
      },
      "source": [
        "# TensorFlow and tf.keras\n",
        "import tensorflow as tf\n",
        "from tensorflow import keras\n",
        "from tensorflow.keras.layers import Conv2D, MaxPooling2D, Dropout, Flatten, Dense\n",
        "\n",
        "# Commonly used modules\n",
        "import numpy as np\n",
        "import os\n",
        "import sys\n",
        "import time\n",
        "\n",
        "# Images, plots, display, and visualization\n",
        "import matplotlib.pyplot as plt\n",
        "import pandas as pd\n",
        "\n",
        "print(tf.__version__)"
      ],
      "execution_count": null,
      "outputs": [
        {
          "output_type": "stream",
          "name": "stdout",
          "text": [
            "2.19.0\n"
          ]
        }
      ]
    },
    {
      "cell_type": "markdown",
      "metadata": {
        "id": "YRGrsd9uFKOb"
      },
      "source": [
        "## Download the Fashion-MNIST dataset\n",
        "\n",
        "\n",
        "The MIST data set of handwritten digits\n",
        "* is too easy (convolutional nets can achieve 99.7%)\n",
        "* is overused.\n",
        "* can not represent modern Computer Vision tasks\n",
        "\n",
        "[Fashion-MNIST](https://github.com/zalandoresearch/fashion-mnist) consists of 60,000 training images and 10,000 test images. It is a MNIST-like fashion product database. The developers believe MNIST has been overused so they created this as a direct replacement for that dataset. Each image is in greyscale and associated with a label from 10 classes.\n",
        "\n",
        "Fashion-MNIST is a dataset of Zalando's article images—consisting of a training set of 60,000 examples and a test set of 10,000 examples.\n",
        "Each example is a 28x28 grayscale image, associated with a label from 10 classes.\n",
        "\n",
        "\n",
        "Fashion-MNIST  serves as a direct drop-in replacement for the original MNIST dataset for benchmarking machine learning algorithms. It shares the same image size and structure of training and testing splits.\n",
        "\n",
        "* Size: 30 MB\n",
        "\n",
        "* Number of Records: 70,000 images in 10 classes\n",
        "\n",
        "* Images are 28x28 NumPy arrays, with pixel values ranging between 0 and 255.\n",
        "\n",
        "* Labels are an array of integers, ranging from 0 to 9.\n",
        "\n",
        "Label\tDescription\n",
        "0.\tT-shirt/top\n",
        "1.\tTrouser\n",
        "2.\tPullover\n",
        "3.\tDress\n",
        "4.\tCoat\n",
        "5.\tSandal\n",
        "6.\tShirt\n",
        "7.\tSneaker\n",
        "8.\tBag\n",
        "9.\tAnkle boot\n",
        "\n",
        "On https://github.com/zalandoresearch/fashion-mnist there is a list of benchmarks and the related NN architectures."
      ]
    },
    {
      "cell_type": "code",
      "metadata": {
        "id": "34UQqKpyFKOk"
      },
      "source": [
        "(train_images, train_labels), (test_images, test_labels) = keras.datasets.fashion_mnist.load_data()\n",
        "size_x=28\n",
        "size_y=28\n",
        "# reshape images to specify that it's a single channel\n",
        "train_images = train_images.reshape(train_images.shape[0], size_x, size_y, 1)\n",
        "test_images = test_images.reshape(test_images.shape[0], size_x, size_y, 1)"
      ],
      "execution_count": null,
      "outputs": []
    },
    {
      "cell_type": "markdown",
      "metadata": {
        "id": "CHsgfXYLFKOs"
      },
      "source": [
        "Let's convert the image pixels into a range of 0 to 1 before feeding to the neural network model by dividing the values of both the *training set* and the *testing set* by 255."
      ]
    },
    {
      "cell_type": "code",
      "metadata": {
        "id": "NLeTnDZWFKOv"
      },
      "source": [
        "def preprocess_images(imgs): # should work for both a single image and multiple images\n",
        "    sample_img = imgs if len(imgs.shape) == 2 else imgs[0]\n",
        "    assert sample_img.shape in [(size_x, size_y, 1), (size_x, size_y)], sample_img.shape # make sure images are 28x28 and single-channel (grayscale)\n",
        "    return imgs / 255.0\n",
        "\n",
        "train_images = preprocess_images(train_images)\n",
        "test_images = preprocess_images(test_images)"
      ],
      "execution_count": null,
      "outputs": []
    },
    {
      "cell_type": "markdown",
      "metadata": {
        "id": "ftNdQX_ZFKPD"
      },
      "source": [
        "Display the first *count* images from the *training set* and display the class name below each image."
      ]
    },
    {
      "cell_type": "code",
      "metadata": {
        "id": "WvQDj48KFKPH",
        "colab": {
          "base_uri": "https://localhost:8080/",
          "height": 110
        },
        "outputId": "537b1b57-4078-4bce-b002-40863d372959"
      },
      "source": [
        "count = 15\n",
        "plt.figure(figsize=(16,1))\n",
        "for i in range(count):\n",
        "    plt.subplot(1,count,i+1)\n",
        "    plt.xticks([])\n",
        "    plt.yticks([])\n",
        "    plt.grid(False)\n",
        "    plt.imshow(train_images[i].reshape(size_x, size_y), cmap=plt.cm.binary)\n",
        "    plt.xlabel(train_labels[i])"
      ],
      "execution_count": null,
      "outputs": [
        {
          "output_type": "display_data",
          "data": {
            "text/plain": [
              "<Figure size 1600x100 with 15 Axes>"
            ],
            "image/png": "[encoded data removed]"
          },
          "metadata": {}
        }
      ]
    },
    {
      "cell_type": "markdown",
      "metadata": {
        "id": "EqYEqUJxFKPS"
      },
      "source": [
        "### Optimize the CNN model\n",
        "\n",
        "Building the neural network requires configuring the layers of the model, then compiling the model. Here follows one possible configuration.\n",
        "\n",
        "You should analyze the present configuration and add other building blocks to obtain your best generalization result (accuracy) on the test set.\n",
        "\n",
        "Take inspiration from the Demos on Keras,  the documentation of [Keras](https://www.tensorflow.org/guide/keras) and on the architectures of benchmarks listed on the site of [Fashion-MNIS](https://github.com/zalandoresearch/fashion-mnist).\n",
        "\n"
      ]
    },
    {
      "cell_type": "code",
      "metadata": {
        "id": "oWOa5LOVFKPT",
        "colab": {
          "base_uri": "https://localhost:8080/",
          "height": 498
        },
        "outputId": "9b03f0ec-9386-4fdd-cd61-ebbffa347d59"
      },
      "source": [
        "# for early stopping\n",
        "callback = tf.keras.callbacks.EarlyStopping(monitor='val_accuracy',min_delta=0.001, mode=\"max\",patience=10)\n",
        "\n",
        "model = keras.Sequential()\n",
        "\n",
        "# definition of number of batches\n",
        "batchSize = 100\n",
        "\n",
        "# the model\n",
        "model.add(keras.layers.Input((size_x, size_y,1) ,batch_size= batchSize))\n",
        "model.add(Conv2D(14, kernel_size=(3, 3), padding=\"same\", activation='relu',name =\"layer_1.0\")) #\n",
        "model.add(Conv2D(28, kernel_size=(4, 4), kernel_initializer=\"glorot_uniform\", activation='relu',name =\"layer_2.0\"))\n",
        "model.add(tf.keras.layers.AveragePooling2D(pool_size=(2, 2), name=\"pooling_2.2\"))\n",
        "\n",
        "\n",
        "model.add(MaxPooling2D(pool_size=(2, 2), name=\"pooling_3.0\"))\n",
        "model.add(Conv2D(96, kernel_size=(4, 4), padding=\"same\", activation='relu',name =\"layer_3.0\"))\n",
        "model.add(keras.layers.Flatten())\n",
        "\n",
        "model.add(tf.keras.layers.Dropout(0.5))\n",
        "model.add(keras.layers.Dense(1000, kernel_initializer=\"random_normal\", activation='relu'))\n",
        "\n",
        "model.add(tf.keras.layers.Dropout(0.5))\n",
        "model.add(keras.layers.Dense(100, kernel_initializer=\"random_normal\", activation='relu'))\n",
        "\n",
        "model.add(keras.layers.Dense(10, activation='softmax'))\n",
        "\n",
        "\n",
        "\n",
        "# to create image of the model\n",
        "create_model_image = False\n",
        "if create_model_image == True:\n",
        "  tf.keras.utils.plot_model(\n",
        "      model,\n",
        "      to_file=\"model.png\",\n",
        "      show_shapes=True,\n",
        "      show_layer_names=True,\n",
        "      rankdir=\"TB\",\n",
        "      expand_nested=False,\n",
        "      dpi=96)\n",
        "\n",
        "print(model.summary())"
      ],
      "execution_count": null,
      "outputs": [
        {
          "output_type": "display_data",
          "data": {
            "text/plain": [
              "\u001b[1mModel: \"sequential_1\"\u001b[0m\n"
            ],
            "text/html": [
              "<pre style=\"white-space:pre;overflow-x:auto;line-height:normal;font-family:Menlo,'DejaVu Sans Mono',consolas,'Courier New',monospace\"><span style=\"font-weight: bold\">Model: \"sequential_1\"</span>\n",
              "</pre>\n"
            ]
          },
          "metadata": {}
        },
        {
          "output_type": "display_data",
          "data": {
            "text/plain": [
              "┏━━━━━━━━━━━━━━━━━━━━━━━━━━━━━━━━━┳━━━━━━━━━━━━━━━━━━━━━━━━┳━━━━━━━━━━━━━━━┓\n",
              "┃\u001b[1m \u001b[0m\u001b[1mLayer (type)                   \u001b[0m\u001b[1m \u001b[0m┃\u001b[1m \u001b[0m\u001b[1mOutput Shape          \u001b[0m\u001b[1m \u001b[0m┃\u001b[1m \u001b[0m\u001b[1m      Param #\u001b[0m\u001b[1m \u001b[0m┃\n",
              "┡━━━━━━━━━━━━━━━━━━━━━━━━━━━━━━━━━╇━━━━━━━━━━━━━━━━━━━━━━━━╇━━━━━━━━━━━━━━━┩\n",
              "│ layer_1.0 (\u001b[38;5;33mConv2D\u001b[0m)              │ (\u001b[38;5;34m100\u001b[0m, \u001b[38;5;34m28\u001b[0m, \u001b[38;5;34m28\u001b[0m, \u001b[38;5;34m14\u001b[0m)      │           \u001b[38;5;34m140\u001b[0m │\n",
              "├─────────────────────────────────┼────────────────────────┼───────────────┤\n",
              "│ layer_2.0 (\u001b[38;5;33mConv2D\u001b[0m)              │ (\u001b[38;5;34m100\u001b[0m, \u001b[38;5;34m25\u001b[0m, \u001b[38;5;34m25\u001b[0m, \u001b[38;5;34m28\u001b[0m)      │         \u001b[38;5;34m6,300\u001b[0m │\n",
              "├─────────────────────────────────┼────────────────────────┼───────────────┤\n",
              "│ pooling_2.2 (\u001b[38;5;33mAveragePooling2D\u001b[0m)  │ (\u001b[38;5;34m100\u001b[0m, \u001b[38;5;34m12\u001b[0m, \u001b[38;5;34m12\u001b[0m, \u001b[38;5;34m28\u001b[0m)      │             \u001b[38;5;34m0\u001b[0m │\n",
              "├─────────────────────────────────┼────────────────────────┼───────────────┤\n",
              "│ pooling_3.0 (\u001b[38;5;33mMaxPooling2D\u001b[0m)      │ (\u001b[38;5;34m100\u001b[0m, \u001b[38;5;34m6\u001b[0m, \u001b[38;5;34m6\u001b[0m, \u001b[38;5;34m28\u001b[0m)        │             \u001b[38;5;34m0\u001b[0m │\n",
              "├─────────────────────────────────┼────────────────────────┼───────────────┤\n",
              "│ layer_3.0 (\u001b[38;5;33mConv2D\u001b[0m)              │ (\u001b[38;5;34m100\u001b[0m, \u001b[38;5;34m6\u001b[0m, \u001b[38;5;34m6\u001b[0m, \u001b[38;5;34m96\u001b[0m)        │        \u001b[38;5;34m43,104\u001b[0m │\n",
              "├─────────────────────────────────┼────────────────────────┼───────────────┤\n",
              "│ flatten_1 (\u001b[38;5;33mFlatten\u001b[0m)             │ (\u001b[38;5;34m100\u001b[0m, \u001b[38;5;34m3456\u001b[0m)            │             \u001b[38;5;34m0\u001b[0m │\n",
              "├─────────────────────────────────┼────────────────────────┼───────────────┤\n",
              "│ dropout_2 (\u001b[38;5;33mDropout\u001b[0m)             │ (\u001b[38;5;34m100\u001b[0m, \u001b[38;5;34m3456\u001b[0m)            │             \u001b[38;5;34m0\u001b[0m │\n",
              "├─────────────────────────────────┼────────────────────────┼───────────────┤\n",
              "│ dense_3 (\u001b[38;5;33mDense\u001b[0m)                 │ (\u001b[38;5;34m100\u001b[0m, \u001b[38;5;34m1000\u001b[0m)            │     \u001b[38;5;34m3,457,000\u001b[0m │\n",
              "├─────────────────────────────────┼────────────────────────┼───────────────┤\n",
              "│ dropout_3 (\u001b[38;5;33mDropout\u001b[0m)             │ (\u001b[38;5;34m100\u001b[0m, \u001b[38;5;34m1000\u001b[0m)            │             \u001b[38;5;34m0\u001b[0m │\n",
              "├─────────────────────────────────┼────────────────────────┼───────────────┤\n",
              "│ dense_4 (\u001b[38;5;33mDense\u001b[0m)                 │ (\u001b[38;5;34m100\u001b[0m, \u001b[38;5;34m100\u001b[0m)             │       \u001b[38;5;34m100,100\u001b[0m │\n",
              "├─────────────────────────────────┼────────────────────────┼───────────────┤\n",
              "│ dense_5 (\u001b[38;5;33mDense\u001b[0m)                 │ (\u001b[38;5;34m100\u001b[0m, \u001b[38;5;34m10\u001b[0m)              │         \u001b[38;5;34m1,010\u001b[0m │\n",
              "└─────────────────────────────────┴────────────────────────┴───────────────┘\n"
            ],
            "text/html": [
              "<pre style=\"white-space:pre;overflow-x:auto;line-height:normal;font-family:Menlo,'DejaVu Sans Mono',consolas,'Courier New',monospace\">┏━━━━━━━━━━━━━━━━━━━━━━━━━━━━━━━━━┳━━━━━━━━━━━━━━━━━━━━━━━━┳━━━━━━━━━━━━━━━┓\n",
              "┃<span style=\"font-weight: bold\"> Layer (type)                    </span>┃<span style=\"font-weight: bold\"> Output Shape           </span>┃<span style=\"font-weight: bold\">       Param # </span>┃\n",
              "┡━━━━━━━━━━━━━━━━━━━━━━━━━━━━━━━━━╇━━━━━━━━━━━━━━━━━━━━━━━━╇━━━━━━━━━━━━━━━┩\n",
              "│ layer_1.0 (<span style=\"color: #0087ff; text-decoration-color: #0087ff\">Conv2D</span>)              │ (<span style=\"color: #00af00; text-decoration-color: #00af00\">100</span>, <span style=\"color: #00af00; text-decoration-color: #00af00\">28</span>, <span style=\"color: #00af00; text-decoration-color: #00af00\">28</span>, <span style=\"color: #00af00; text-decoration-color: #00af00\">14</span>)      │           <span style=\"color: #00af00; text-decoration-color: #00af00\">140</span> │\n",
              "├─────────────────────────────────┼────────────────────────┼───────────────┤\n",
              "│ layer_2.0 (<span style=\"color: #0087ff; text-decoration-color: #0087ff\">Conv2D</span>)              │ (<span style=\"color: #00af00; text-decoration-color: #00af00\">100</span>, <span style=\"color: #00af00; text-decoration-color: #00af00\">25</span>, <span style=\"color: #00af00; text-decoration-color: #00af00\">25</span>, <span style=\"color: #00af00; text-decoration-color: #00af00\">28</span>)      │         <span style=\"color: #00af00; text-decoration-color: #00af00\">6,300</span> │\n",
              "├─────────────────────────────────┼────────────────────────┼───────────────┤\n",
              "│ pooling_2.2 (<span style=\"color: #0087ff; text-decoration-color: #0087ff\">AveragePooling2D</span>)  │ (<span style=\"color: #00af00; text-decoration-color: #00af00\">100</span>, <span style=\"color: #00af00; text-decoration-color: #00af00\">12</span>, <span style=\"color: #00af00; text-decoration-color: #00af00\">12</span>, <span style=\"color: #00af00; text-decoration-color: #00af00\">28</span>)      │             <span style=\"color: #00af00; text-decoration-color: #00af00\">0</span> │\n",
              "├─────────────────────────────────┼────────────────────────┼───────────────┤\n",
              "│ pooling_3.0 (<span style=\"color: #0087ff; text-decoration-color: #0087ff\">MaxPooling2D</span>)      │ (<span style=\"color: #00af00; text-decoration-color: #00af00\">100</span>, <span style=\"color: #00af00; text-decoration-color: #00af00\">6</span>, <span style=\"color: #00af00; text-decoration-color: #00af00\">6</span>, <span style=\"color: #00af00; text-decoration-color: #00af00\">28</span>)        │             <span style=\"color: #00af00; text-decoration-color: #00af00\">0</span> │\n",
              "├─────────────────────────────────┼────────────────────────┼───────────────┤\n",
              "│ layer_3.0 (<span style=\"color: #0087ff; text-decoration-color: #0087ff\">Conv2D</span>)              │ (<span style=\"color: #00af00; text-decoration-color: #00af00\">100</span>, <span style=\"color: #00af00; text-decoration-color: #00af00\">6</span>, <span style=\"color: #00af00; text-decoration-color: #00af00\">6</span>, <span style=\"color: #00af00; text-decoration-color: #00af00\">96</span>)        │        <span style=\"color: #00af00; text-decoration-color: #00af00\">43,104</span> │\n",
              "├─────────────────────────────────┼────────────────────────┼───────────────┤\n",
              "│ flatten_1 (<span style=\"color: #0087ff; text-decoration-color: #0087ff\">Flatten</span>)             │ (<span style=\"color: #00af00; text-decoration-color: #00af00\">100</span>, <span style=\"color: #00af00; text-decoration-color: #00af00\">3456</span>)            │             <span style=\"color: #00af00; text-decoration-color: #00af00\">0</span> │\n",
              "├─────────────────────────────────┼────────────────────────┼───────────────┤\n",
              "│ dropout_2 (<span style=\"color: #0087ff; text-decoration-color: #0087ff\">Dropout</span>)             │ (<span style=\"color: #00af00; text-decoration-color: #00af00\">100</span>, <span style=\"color: #00af00; text-decoration-color: #00af00\">3456</span>)            │             <span style=\"color: #00af00; text-decoration-color: #00af00\">0</span> │\n",
              "├─────────────────────────────────┼────────────────────────┼───────────────┤\n",
              "│ dense_3 (<span style=\"color: #0087ff; text-decoration-color: #0087ff\">Dense</span>)                 │ (<span style=\"color: #00af00; text-decoration-color: #00af00\">100</span>, <span style=\"color: #00af00; text-decoration-color: #00af00\">1000</span>)            │     <span style=\"color: #00af00; text-decoration-color: #00af00\">3,457,000</span> │\n",
              "├─────────────────────────────────┼────────────────────────┼───────────────┤\n",
              "│ dropout_3 (<span style=\"color: #0087ff; text-decoration-color: #0087ff\">Dropout</span>)             │ (<span style=\"color: #00af00; text-decoration-color: #00af00\">100</span>, <span style=\"color: #00af00; text-decoration-color: #00af00\">1000</span>)            │             <span style=\"color: #00af00; text-decoration-color: #00af00\">0</span> │\n",
              "├─────────────────────────────────┼────────────────────────┼───────────────┤\n",
              "│ dense_4 (<span style=\"color: #0087ff; text-decoration-color: #0087ff\">Dense</span>)                 │ (<span style=\"color: #00af00; text-decoration-color: #00af00\">100</span>, <span style=\"color: #00af00; text-decoration-color: #00af00\">100</span>)             │       <span style=\"color: #00af00; text-decoration-color: #00af00\">100,100</span> │\n",
              "├─────────────────────────────────┼────────────────────────┼───────────────┤\n",
              "│ dense_5 (<span style=\"color: #0087ff; text-decoration-color: #0087ff\">Dense</span>)                 │ (<span style=\"color: #00af00; text-decoration-color: #00af00\">100</span>, <span style=\"color: #00af00; text-decoration-color: #00af00\">10</span>)              │         <span style=\"color: #00af00; text-decoration-color: #00af00\">1,010</span> │\n",
              "└─────────────────────────────────┴────────────────────────┴───────────────┘\n",
              "</pre>\n"
            ]
          },
          "metadata": {}
        },
        {
          "output_type": "display_data",
          "data": {
            "text/plain": [
              "\u001b[1m Total params: \u001b[0m\u001b[38;5;34m3,607,654\u001b[0m (13.76 MB)\n"
            ],
            "text/html": [
              "<pre style=\"white-space:pre;overflow-x:auto;line-height:normal;font-family:Menlo,'DejaVu Sans Mono',consolas,'Courier New',monospace\"><span style=\"font-weight: bold\"> Total params: </span><span style=\"color: #00af00; text-decoration-color: #00af00\">3,607,654</span> (13.76 MB)\n",
              "</pre>\n"
            ]
          },
          "metadata": {}
        },
        {
          "output_type": "display_data",
          "data": {
            "text/plain": [
              "\u001b[1m Trainable params: \u001b[0m\u001b[38;5;34m3,607,654\u001b[0m (13.76 MB)\n"
            ],
            "text/html": [
              "<pre style=\"white-space:pre;overflow-x:auto;line-height:normal;font-family:Menlo,'DejaVu Sans Mono',consolas,'Courier New',monospace\"><span style=\"font-weight: bold\"> Trainable params: </span><span style=\"color: #00af00; text-decoration-color: #00af00\">3,607,654</span> (13.76 MB)\n",
              "</pre>\n"
            ]
          },
          "metadata": {}
        },
        {
          "output_type": "display_data",
          "data": {
            "text/plain": [
              "\u001b[1m Non-trainable params: \u001b[0m\u001b[38;5;34m0\u001b[0m (0.00 B)\n"
            ],
            "text/html": [
              "<pre style=\"white-space:pre;overflow-x:auto;line-height:normal;font-family:Menlo,'DejaVu Sans Mono',consolas,'Courier New',monospace\"><span style=\"font-weight: bold\"> Non-trainable params: </span><span style=\"color: #00af00; text-decoration-color: #00af00\">0</span> (0.00 B)\n",
              "</pre>\n"
            ]
          },
          "metadata": {}
        },
        {
          "output_type": "stream",
          "name": "stdout",
          "text": [
            "None\n"
          ]
        }
      ]
    },
    {
      "cell_type": "markdown",
      "metadata": {
        "id": "fUHo8mPbFKPb"
      },
      "source": [
        "## Model compilation\n",
        "\n",
        "Before the model is ready for training, it needs a few more settings. These are added during the model's *compile* step:\n",
        "\n",
        "* *Loss function* - measures how accurate the model is during training, we want to minimize this with the optimizer.\n",
        "* *Optimizer* - how the model is updated based on the data it sees and its loss function.\n",
        "* *Metrics* - used to monitor the training and testing steps. \"accuracy\" is the fraction of images that are correctly classified.\n",
        "\n",
        "Those setting are relevant to improve the generalization on the test set and the learning time.\n",
        "See the [Keras documentation](https://keras.io/) to select the optimal setting."
      ]
    },
    {
      "cell_type": "code",
      "metadata": {
        "id": "gPDJn26KFKPe"
      },
      "source": [
        "#model.compile(optimizer=tf.optimizers.SGD(), loss='sparse_categorical_crossentropy', metrics=['accuracy'])\n",
        "# new function with Adam\n",
        "model.compile(optimizer=tf.optimizers.Adam(), loss='sparse_categorical_crossentropy', metrics=['accuracy'])\n"
      ],
      "execution_count": null,
      "outputs": []
    },
    {
      "cell_type": "markdown",
      "metadata": {
        "id": "CzydQVk1FKPm"
      },
      "source": [
        "### Model training\n",
        "\n",
        "\n",
        "Being in a context of *supervised learning*, training the neural network model requires to call the `model.fit` method on the training data `train_images` and the relevant ground truth `train_labels`.\n",
        "\n",
        "To make predictions we use a test set `test_images` and check the predictions against the `test_labels` array."
      ]
    },
    {
      "cell_type": "code",
      "metadata": {
        "id": "UuerNpGCFKPn",
        "colab": {
          "base_uri": "https://localhost:8080/"
        },
        "outputId": "197504a3-cce0-4573-f764-9c8c4fea3d25"
      },
      "source": [
        "print(train_images.shape)\n",
        "t_before = time.time()\n",
        "model.fit(train_images, train_labels, validation_data=(test_images, test_labels),callbacks=[callback],epochs=50,batch_size= batchSize)\n",
        "t_after = time.time()\n",
        "t_training = t_after - t_before\n",
        "print()\n",
        "print(\"Training time (seconds)\", t_training)"
      ],
      "execution_count": null,
      "outputs": [
        {
          "output_type": "stream",
          "name": "stdout",
          "text": [
            "(60000, 28, 28, 1)\n",
            "Epoch 1/50\n",
            "\u001b[1m600/600\u001b[0m \u001b[32m━━━━━━━━━━━━━━━━━━━━\u001b[0m\u001b[37m\u001b[0m \u001b[1m11s\u001b[0m 7ms/step - accuracy: 0.7230 - loss: 0.7444 - val_accuracy: 0.8704 - val_loss: 0.3469\n",
            "Epoch 2/50\n",
            "\u001b[1m600/600\u001b[0m \u001b[32m━━━━━━━━━━━━━━━━━━━━\u001b[0m\u001b[37m\u001b[0m \u001b[1m4s\u001b[0m 6ms/step - accuracy: 0.8751 - loss: 0.3365 - val_accuracy: 0.8947 - val_loss: 0.2837\n",
            "Epoch 3/50\n",
            "\u001b[1m600/600\u001b[0m \u001b[32m━━━━━━━━━━━━━━━━━━━━\u001b[0m\u001b[37m\u001b[0m \u001b[1m3s\u001b[0m 5ms/step - accuracy: 0.8952 - loss: 0.2860 - val_accuracy: 0.9015 - val_loss: 0.2684\n",
            "Epoch 4/50\n",
            "\u001b[1m600/600\u001b[0m \u001b[32m━━━━━━━━━━━━━━━━━━━━\u001b[0m\u001b[37m\u001b[0m \u001b[1m3s\u001b[0m 5ms/step - accuracy: 0.9046 - loss: 0.2557 - val_accuracy: 0.9104 - val_loss: 0.2426\n",
            "Epoch 5/50\n",
            "\u001b[1m600/600\u001b[0m \u001b[32m━━━━━━━━━━━━━━━━━━━━\u001b[0m\u001b[37m\u001b[0m \u001b[1m3s\u001b[0m 5ms/step - accuracy: 0.9130 - loss: 0.2298 - val_accuracy: 0.9114 - val_loss: 0.2386\n",
            "Epoch 6/50\n",
            "\u001b[1m600/600\u001b[0m \u001b[32m━━━━━━━━━━━━━━━━━━━━\u001b[0m\u001b[37m\u001b[0m \u001b[1m4s\u001b[0m 6ms/step - accuracy: 0.9168 - loss: 0.2244 - val_accuracy: 0.9104 - val_loss: 0.2485\n",
            "Epoch 7/50\n",
            "\u001b[1m600/600\u001b[0m \u001b[32m━━━━━━━━━━━━━━━━━━━━\u001b[0m\u001b[37m\u001b[0m \u001b[1m3s\u001b[0m 5ms/step - accuracy: 0.9205 - loss: 0.2131 - val_accuracy: 0.9173 - val_loss: 0.2193\n",
            "Epoch 8/50\n",
            "\u001b[1m600/600\u001b[0m \u001b[32m━━━━━━━━━━━━━━━━━━━━\u001b[0m\u001b[37m\u001b[0m \u001b[1m3s\u001b[0m 5ms/step - accuracy: 0.9262 - loss: 0.1942 - val_accuracy: 0.9215 - val_loss: 0.2167\n",
            "Epoch 9/50\n",
            "\u001b[1m600/600\u001b[0m \u001b[32m━━━━━━━━━━━━━━━━━━━━\u001b[0m\u001b[37m\u001b[0m \u001b[1m4s\u001b[0m 6ms/step - accuracy: 0.9335 - loss: 0.1774 - val_accuracy: 0.9193 - val_loss: 0.2190\n",
            "Epoch 10/50\n",
            "\u001b[1m600/600\u001b[0m \u001b[32m━━━━━━━━━━━━━━━━━━━━\u001b[0m\u001b[37m\u001b[0m \u001b[1m3s\u001b[0m 5ms/step - accuracy: 0.9338 - loss: 0.1760 - val_accuracy: 0.9227 - val_loss: 0.2119\n",
            "Epoch 11/50\n",
            "\u001b[1m600/600\u001b[0m \u001b[32m━━━━━━━━━━━━━━━━━━━━\u001b[0m\u001b[37m\u001b[0m \u001b[1m3s\u001b[0m 5ms/step - accuracy: 0.9358 - loss: 0.1700 - val_accuracy: 0.9249 - val_loss: 0.2052\n",
            "Epoch 12/50\n",
            "\u001b[1m600/600\u001b[0m \u001b[32m━━━━━━━━━━━━━━━━━━━━\u001b[0m\u001b[37m\u001b[0m \u001b[1m3s\u001b[0m 5ms/step - accuracy: 0.9389 - loss: 0.1594 - val_accuracy: 0.9285 - val_loss: 0.2044\n",
            "Epoch 13/50\n",
            "\u001b[1m600/600\u001b[0m \u001b[32m━━━━━━━━━━━━━━━━━━━━\u001b[0m\u001b[37m\u001b[0m \u001b[1m4s\u001b[0m 6ms/step - accuracy: 0.9434 - loss: 0.1495 - val_accuracy: 0.9277 - val_loss: 0.2040\n",
            "Epoch 14/50\n",
            "\u001b[1m600/600\u001b[0m \u001b[32m━━━━━━━━━━━━━━━━━━━━\u001b[0m\u001b[37m\u001b[0m \u001b[1m3s\u001b[0m 5ms/step - accuracy: 0.9432 - loss: 0.1517 - val_accuracy: 0.9220 - val_loss: 0.2183\n",
            "Epoch 15/50\n",
            "\u001b[1m600/600\u001b[0m \u001b[32m━━━━━━━━━━━━━━━━━━━━\u001b[0m\u001b[37m\u001b[0m \u001b[1m3s\u001b[0m 5ms/step - accuracy: 0.9445 - loss: 0.1448 - val_accuracy: 0.9284 - val_loss: 0.2044\n",
            "Epoch 16/50\n",
            "\u001b[1m600/600\u001b[0m \u001b[32m━━━━━━━━━━━━━━━━━━━━\u001b[0m\u001b[37m\u001b[0m \u001b[1m4s\u001b[0m 6ms/step - accuracy: 0.9490 - loss: 0.1339 - val_accuracy: 0.9277 - val_loss: 0.2159\n",
            "Epoch 17/50\n",
            "\u001b[1m600/600\u001b[0m \u001b[32m━━━━━━━━━━━━━━━━━━━━\u001b[0m\u001b[37m\u001b[0m \u001b[1m3s\u001b[0m 6ms/step - accuracy: 0.9511 - loss: 0.1291 - val_accuracy: 0.9254 - val_loss: 0.2137\n",
            "Epoch 18/50\n",
            "\u001b[1m600/600\u001b[0m \u001b[32m━━━━━━━━━━━━━━━━━━━━\u001b[0m\u001b[37m\u001b[0m \u001b[1m3s\u001b[0m 5ms/step - accuracy: 0.9532 - loss: 0.1241 - val_accuracy: 0.9290 - val_loss: 0.2106\n",
            "Epoch 19/50\n",
            "\u001b[1m600/600\u001b[0m \u001b[32m━━━━━━━━━━━━━━━━━━━━\u001b[0m\u001b[37m\u001b[0m \u001b[1m3s\u001b[0m 5ms/step - accuracy: 0.9566 - loss: 0.1157 - val_accuracy: 0.9287 - val_loss: 0.2198\n",
            "Epoch 20/50\n",
            "\u001b[1m600/600\u001b[0m \u001b[32m━━━━━━━━━━━━━━━━━━━━\u001b[0m\u001b[37m\u001b[0m \u001b[1m4s\u001b[0m 6ms/step - accuracy: 0.9529 - loss: 0.1211 - val_accuracy: 0.9275 - val_loss: 0.2112\n",
            "Epoch 21/50\n",
            "\u001b[1m600/600\u001b[0m \u001b[32m━━━━━━━━━━━━━━━━━━━━\u001b[0m\u001b[37m\u001b[0m \u001b[1m3s\u001b[0m 5ms/step - accuracy: 0.9560 - loss: 0.1141 - val_accuracy: 0.9330 - val_loss: 0.2112\n",
            "Epoch 22/50\n",
            "\u001b[1m600/600\u001b[0m \u001b[32m━━━━━━━━━━━━━━━━━━━━\u001b[0m\u001b[37m\u001b[0m \u001b[1m3s\u001b[0m 5ms/step - accuracy: 0.9583 - loss: 0.1099 - val_accuracy: 0.9311 - val_loss: 0.2225\n",
            "Epoch 23/50\n",
            "\u001b[1m600/600\u001b[0m \u001b[32m━━━━━━━━━━━━━━━━━━━━\u001b[0m\u001b[37m\u001b[0m \u001b[1m4s\u001b[0m 6ms/step - accuracy: 0.9614 - loss: 0.1026 - val_accuracy: 0.9291 - val_loss: 0.2200\n",
            "Epoch 24/50\n",
            "\u001b[1m600/600\u001b[0m \u001b[32m━━━━━━━━━━━━━━━━━━━━\u001b[0m\u001b[37m\u001b[0m \u001b[1m3s\u001b[0m 6ms/step - accuracy: 0.9625 - loss: 0.0987 - val_accuracy: 0.9291 - val_loss: 0.2352\n",
            "Epoch 25/50\n",
            "\u001b[1m600/600\u001b[0m \u001b[32m━━━━━━━━━━━━━━━━━━━━\u001b[0m\u001b[37m\u001b[0m \u001b[1m3s\u001b[0m 5ms/step - accuracy: 0.9631 - loss: 0.0985 - val_accuracy: 0.9290 - val_loss: 0.2235\n",
            "Epoch 26/50\n",
            "\u001b[1m600/600\u001b[0m \u001b[32m━━━━━━━━━━━━━━━━━━━━\u001b[0m\u001b[37m\u001b[0m \u001b[1m3s\u001b[0m 5ms/step - accuracy: 0.9622 - loss: 0.0990 - val_accuracy: 0.9310 - val_loss: 0.2303\n",
            "Epoch 27/50\n",
            "\u001b[1m600/600\u001b[0m \u001b[32m━━━━━━━━━━━━━━━━━━━━\u001b[0m\u001b[37m\u001b[0m \u001b[1m4s\u001b[0m 6ms/step - accuracy: 0.9647 - loss: 0.0956 - val_accuracy: 0.9313 - val_loss: 0.2233\n",
            "Epoch 28/50\n",
            "\u001b[1m600/600\u001b[0m \u001b[32m━━━━━━━━━━━━━━━━━━━━\u001b[0m\u001b[37m\u001b[0m \u001b[1m3s\u001b[0m 5ms/step - accuracy: 0.9660 - loss: 0.0916 - val_accuracy: 0.9310 - val_loss: 0.2348\n",
            "Epoch 29/50\n",
            "\u001b[1m600/600\u001b[0m \u001b[32m━━━━━━━━━━━━━━━━━━━━\u001b[0m\u001b[37m\u001b[0m \u001b[1m3s\u001b[0m 5ms/step - accuracy: 0.9673 - loss: 0.0847 - val_accuracy: 0.9303 - val_loss: 0.2213\n",
            "Epoch 30/50\n",
            "\u001b[1m600/600\u001b[0m \u001b[32m━━━━━━━━━━━━━━━━━━━━\u001b[0m\u001b[37m\u001b[0m \u001b[1m3s\u001b[0m 5ms/step - accuracy: 0.9652 - loss: 0.0917 - val_accuracy: 0.9327 - val_loss: 0.2284\n",
            "Epoch 31/50\n",
            "\u001b[1m600/600\u001b[0m \u001b[32m━━━━━━━━━━━━━━━━━━━━\u001b[0m\u001b[37m\u001b[0m \u001b[1m4s\u001b[0m 6ms/step - accuracy: 0.9690 - loss: 0.0790 - val_accuracy: 0.9315 - val_loss: 0.2208\n",
            "\n",
            "Training time (seconds) 112.61937522888184\n"
          ]
        }
      ]
    },
    {
      "cell_type": "code",
      "metadata": {
        "id": "vopiFbYeACgG",
        "colab": {
          "base_uri": "https://localhost:8080/",
          "height": 258
        },
        "outputId": "ed0482f7-dd90-42db-c9f8-6df61b0dc93a"
      },
      "source": [
        "# print the chosen filters\n",
        "from matplotlib import pyplot\n",
        "\n",
        "filters, biases = model.layers[4].get_weights()\n",
        "# normalize filter values to 0-1 so we can visualize them\n",
        "f_min, f_max = filters.min(), filters.max()\n",
        "filters = (filters - f_min) / (f_max - f_min)\n",
        "# plot first few filters\n",
        "n_filters, ix = 10, 1\n",
        "plt.figure(figsize=(10,10))\n",
        "for i in range(0, n_filters):\n",
        "\t# get the filter\n",
        "\tf = filters[:, :, :, i]\n",
        "\t# plot each channel separately\n",
        "\tfor j in range(1):\n",
        "\t\t# specify subplot and turn of axis\n",
        "\t\tax = pyplot.subplot( n_filters, 4, ix)\n",
        "\t\tax.set_xticks([])\n",
        "\t\tax.set_yticks([])\n",
        "\t\t# plot filter channel in grayscale\n",
        "\t\tpyplot.imshow(f[:, :, j], cmap='gray')\n",
        "\t\tix += 1\n",
        "# show the figure\n",
        "pyplot.show()"
      ],
      "execution_count": null,
      "outputs": [
        {
          "output_type": "display_data",
          "data": {
            "text/plain": [
              "<Figure size 1000x1000 with 10 Axes>"
            ],
            "image/png": "[encoded data removed]"
          },
          "metadata": {}
        }
      ]
    },
    {
      "cell_type": "markdown",
      "metadata": {
        "id": "VXZTp2GA8cIS"
      },
      "source": [
        "##CNN Fashion Mnist - Challenge CI Strategos\n",
        "\n",
        "Add your best result to the (link)"
      ]
    },
    {
      "cell_type": "markdown",
      "metadata": {
        "id": "xV0fw3Lqhdw3"
      },
      "source": [
        "### Discussion\n",
        "* What are the best results?\n",
        "* Additional discussion here"
      ]
    },
    {
      "cell_type": "markdown",
      "metadata": {
        "id": "8F-mzzhMXvX8"
      },
      "source": [
        "The first improvement was the change of Adam for the optimizer, that rised the results of some points in percentual. In this configuration of the network, Dropout was necessary for reducing overfitting, while weight decay was not so effective. However overfitting still is a problem for this configuration. Branched networks (not reported here, using not the Sequential model) gave results similar to sequential models but still less effective than the model above.\n",
        "Next step was adding batches that improved the results, 100 seemed to be the best with good compromise against overfitting.\n",
        "50 epochs are several, but there is the function for early stop; initialization of weights is important under this aspect."
      ]
    }
  ]
}